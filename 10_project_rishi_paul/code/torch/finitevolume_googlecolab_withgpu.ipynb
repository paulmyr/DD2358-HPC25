{
  "nbformat": 4,
  "nbformat_minor": 0,
  "metadata": {
    "colab": {
      "provenance": []
    },
    "kernelspec": {
      "name": "python3",
      "display_name": "Python 3"
    },
    "language_info": {
      "name": "python"
    }
  },
  "cells": [
    {
      "cell_type": "code",
      "source": [
        "import matplotlib.pyplot as plt\n",
        "import math\n",
        "\n",
        "from timeit import default_timer as timer\n",
        "from torch.cuda import is_available as gpu_available\n",
        "from numpy import linspace, meshgrid\n",
        "\n",
        "use_gpu = gpu_available()\n",
        "\n",
        "if use_gpu:\n",
        "  from torch import roll, maximum, minimum, abs, min\n",
        "  from torch import sqrt, exp, sin, pi\n",
        "  from torch import ones, zeros\n",
        "  from torch import from_numpy\n",
        "else:\n",
        "  from numpy import roll, maximum, minimum, abs, min\n",
        "  from numpy import sqrt, exp, sin, pi\n",
        "  from numpy import ones, zeros\n",
        "\n",
        "\n",
        "\n",
        "\n"
      ],
      "metadata": {
        "id": "RHIPbZabepPd"
      },
      "execution_count": 1,
      "outputs": []
    },
    {
      "cell_type": "code",
      "execution_count": 2,
      "metadata": {
        "colab": {
          "base_uri": "https://localhost:8080/",
          "height": 1000
        },
        "id": "j3p-VNZjecUP",
        "outputId": "6da940f7-69c1-4a3c-c35c-d96b83703ee2"
      },
      "outputs": [
        {
          "output_type": "display_data",
          "data": {
            "text/plain": [
              "<Figure size 320x320 with 0 Axes>"
            ]
          },
          "metadata": {}
        },
        {
          "output_type": "display_data",
          "data": {
            "text/plain": [
              "<Figure size 320x320 with 0 Axes>"
            ]
          },
          "metadata": {}
        },
        {
          "output_type": "display_data",
          "data": {
            "text/plain": [
              "<Figure size 320x320 with 0 Axes>"
            ]
          },
          "metadata": {}
        },
        {
          "output_type": "display_data",
          "data": {
            "text/plain": [
              "<Figure size 320x320 with 0 Axes>"
            ]
          },
          "metadata": {}
        },
        {
          "output_type": "display_data",
          "data": {
            "text/plain": [
              "<Figure size 320x320 with 0 Axes>"
            ]
          },
          "metadata": {}
        },
        {
          "output_type": "display_data",
          "data": {
            "text/plain": [
              "<Figure size 320x320 with 0 Axes>"
            ]
          },
          "metadata": {}
        },
        {
          "output_type": "display_data",
          "data": {
            "text/plain": [
              "<Figure size 320x320 with 0 Axes>"
            ]
          },
          "metadata": {}
        },
        {
          "output_type": "display_data",
          "data": {
            "text/plain": [
              "<Figure size 320x320 with 0 Axes>"
            ]
          },
          "metadata": {}
        },
        {
          "output_type": "display_data",
          "data": {
            "text/plain": [
              "<Figure size 320x320 with 0 Axes>"
            ]
          },
          "metadata": {}
        },
        {
          "output_type": "display_data",
          "data": {
            "text/plain": [
              "<Figure size 320x320 with 0 Axes>"
            ]
          },
          "metadata": {}
        },
        {
          "output_type": "display_data",
          "data": {
            "text/plain": [
              "<Figure size 320x320 with 0 Axes>"
            ]
          },
          "metadata": {}
        },
        {
          "output_type": "display_data",
          "data": {
            "text/plain": [
              "<Figure size 320x320 with 0 Axes>"
            ]
          },
          "metadata": {}
        },
        {
          "output_type": "display_data",
          "data": {
            "text/plain": [
              "<Figure size 320x320 with 0 Axes>"
            ]
          },
          "metadata": {}
        },
        {
          "output_type": "display_data",
          "data": {
            "text/plain": [
              "<Figure size 320x320 with 0 Axes>"
            ]
          },
          "metadata": {}
        },
        {
          "output_type": "display_data",
          "data": {
            "text/plain": [
              "<Figure size 320x320 with 0 Axes>"
            ]
          },
          "metadata": {}
        },
        {
          "output_type": "display_data",
          "data": {
            "text/plain": [
              "<Figure size 320x320 with 0 Axes>"
            ]
          },
          "metadata": {}
        },
        {
          "output_type": "display_data",
          "data": {
            "text/plain": [
              "<Figure size 320x320 with 0 Axes>"
            ]
          },
          "metadata": {}
        },
        {
          "output_type": "display_data",
          "data": {
            "text/plain": [
              "<Figure size 320x320 with 0 Axes>"
            ]
          },
          "metadata": {}
        },
        {
          "output_type": "display_data",
          "data": {
            "text/plain": [
              "<Figure size 320x320 with 0 Axes>"
            ]
          },
          "metadata": {}
        },
        {
          "output_type": "display_data",
          "data": {
            "text/plain": [
              "<Figure size 320x320 with 0 Axes>"
            ]
          },
          "metadata": {}
        },
        {
          "output_type": "display_data",
          "data": {
            "text/plain": [
              "<Figure size 320x320 with 0 Axes>"
            ]
          },
          "metadata": {}
        },
        {
          "output_type": "stream",
          "name": "stdout",
          "text": [
            "ran main\n",
            "each grid size ran 3 runs, each run simulated 0.1 seconds.\n",
            "Grid: (16, 16)\n",
            "\tavg runtime: 0.0002618069620484946s\n",
            "Grid: (32, 32)\n",
            "\tavg runtime: 0.0007793912908092654s\n",
            "Grid: (64, 64)\n",
            "\tavg runtime: 0.005974342827160328s\n",
            "Grid: (128, 128)\n",
            "\tavg runtime: 0.05069375279012328s\n",
            "Grid: (256, 256)\n",
            "\tavg runtime: 0.6671604227777791s\n",
            "Grid: (512, 512)\n",
            "\tavg runtime: 15.944468325888893s\n",
            "Grid: (1024, 1024)\n",
            "\tavg runtime: 425.7960745926666s\n",
            "[2.61806962e-04 7.79391291e-04 5.97434283e-03 5.06937528e-02\n",
            " 6.67160423e-01 1.59444683e+01 4.25796075e+02]\n"
          ]
        },
        {
          "output_type": "display_data",
          "data": {
            "text/plain": [
              "<Figure size 640x480 with 1 Axes>"
            ],
            "image/png": "[encoded data removed]"
          },
          "metadata": {}
        }
      ],
      "source": [
        "\"\"\"\n",
        "Create Your Own Finite Volume Fluid Simulation (With Python)\n",
        "Philip Mocz (2020) Princeton Univeristy, @PMocz\n",
        "\n",
        "Simulate the Kelvin Helmholtz Instability\n",
        "In the compressible Euler equations\n",
        "\n",
        "\"\"\"\n",
        "\n",
        "\n",
        "def getConserved( rho, vx, vy, P, gamma, vol ):\n",
        "    \"\"\"\n",
        "    Calculate the conserved variable from the primitive\n",
        "    rho      is matrix of cell densities\n",
        "    vx       is matrix of cell x-velocity\n",
        "    vy       is matrix of cell y-velocity\n",
        "    P        is matrix of cell pressures\n",
        "    gamma    is ideal gas gamma\n",
        "    vol      is cell volume\n",
        "    Mass     is matrix of mass in cells\n",
        "    Momx     is matrix of x-momentum in cells\n",
        "    Momy     is matrix of y-momentum in cells\n",
        "    Energy   is matrix of energy in cells\n",
        "    \"\"\"\n",
        "    Mass   = rho * vol\n",
        "    Momx   = rho * vx * vol\n",
        "    Momy   = rho * vy * vol\n",
        "    Energy = (P/(gamma-1) + 0.5*rho*(vx**2+vy**2))*vol\n",
        "\n",
        "    return Mass, Momx, Momy, Energy\n",
        "\n",
        "\n",
        "def getPrimitive( Mass, Momx, Momy, Energy, gamma, vol ):\n",
        "    \"\"\"\n",
        "    Calculate the primitive variable from the conservative\n",
        "    Mass     is matrix of mass in cells\n",
        "    Momx     is matrix of x-momentum in cells\n",
        "    Momy     is matrix of y-momentum in cells\n",
        "    Energy   is matrix of energy in cells\n",
        "    gamma    is ideal gas gamma\n",
        "    vol      is cell volume\n",
        "    rho      is matrix of cell densities\n",
        "    vx       is matrix of cell x-velocity\n",
        "    vy       is matrix of cell y-velocity\n",
        "    P        is matrix of cell pressures\n",
        "    \"\"\"\n",
        "    rho = Mass / vol\n",
        "    vx  = Momx / rho / vol\n",
        "    vy  = Momy / rho / vol\n",
        "    P   = (Energy/vol - 0.5*rho * (vx**2+vy**2)) * (gamma-1)\n",
        "\n",
        "    return rho, vx, vy, P\n",
        "\n",
        "\n",
        "def getGradient(f, dx):\n",
        "    \"\"\"\n",
        "    Calculate the gradients of a field\n",
        "    f        is a matrix of the field\n",
        "    dx       is the cell size\n",
        "    f_dx     is a matrix of derivative of f in the x-direction\n",
        "    f_dy     is a matrix of derivative of f in the y-direction\n",
        "    \"\"\"\n",
        "    # directions for roll()\n",
        "    R = -1   # right\n",
        "    L = 1    # left\n",
        "\n",
        "    f_dx = ( roll(f, R, 0) - roll(f, L, 0) ) / (2*dx)\n",
        "    f_dy = ( roll(f, R, 1) - roll(f, L, 1) ) / (2*dx)\n",
        "\n",
        "    return f_dx, f_dy\n",
        "\n",
        "\n",
        "def slopeLimit(f, dx, f_dx, f_dy):\n",
        "    \"\"\"\n",
        "    Apply slope limiter to slopes\n",
        "    f        is a matrix of the field\n",
        "    dx       is the cell size\n",
        "    f_dx     is a matrix of derivative of f in the x-direction\n",
        "    f_dy     is a matrix of derivative of f in the y-direction\n",
        "    \"\"\"\n",
        "    # directions for roll()\n",
        "    R = -1   # right\n",
        "    L = 1    # left\n",
        "\n",
        "    f_dx = maximum(0., minimum(1., ( (f-roll(f, L, 0))/dx)/(f_dx + 1.0e-8*(f_dx==0)))) * f_dx\n",
        "    f_dx = maximum(0., minimum(1., (-(f-roll(f, R, 0))/dx)/(f_dx + 1.0e-8*(f_dx==0)))) * f_dx\n",
        "    f_dy = maximum(0., minimum(1., ( (f-roll(f, L, 1))/dx)/(f_dy + 1.0e-8*(f_dy==0)))) * f_dy\n",
        "    f_dy = maximum(0., minimum(1., (-(f-roll(f, R, 1))/dx)/(f_dy + 1.0e-8*(f_dy==0)))) * f_dy\n",
        "\n",
        "    return f_dx, f_dy\n",
        "\n",
        "\n",
        "def extrapolateInSpaceToFace(f, f_dx, f_dy, dx):\n",
        "    \"\"\"\n",
        "    Calculate the gradients of a field\n",
        "    f        is a matrix of the field\n",
        "    f_dx     is a matrix of the field x-derivatives\n",
        "    f_dy     is a matrix of the field y-derivatives\n",
        "    dx       is the cell size\n",
        "    f_XL     is a matrix of spatial-extrapolated values on `left' face along x-axis\n",
        "    f_XR     is a matrix of spatial-extrapolated values on `right' face along x-axis\n",
        "    f_YL     is a matrix of spatial-extrapolated values on `left' face along y-axis\n",
        "    f_YR     is a matrix of spatial-extrapolated values on `right' face along y-axis\n",
        "    \"\"\"\n",
        "    # directions for roll()\n",
        "    R = -1   # right\n",
        "    L = 1    # left\n",
        "\n",
        "    f_XL = f - f_dx * dx/2\n",
        "    f_XL = roll(f_XL,R,0)\n",
        "    f_XR = f + f_dx * dx/2\n",
        "\n",
        "    f_YL = f - f_dy * dx/2\n",
        "    f_YL = roll(f_YL,R,1)\n",
        "    f_YR = f + f_dy * dx/2\n",
        "\n",
        "    return f_XL, f_XR, f_YL, f_YR\n",
        "\n",
        "\n",
        "def applyFluxes(F, flux_F_X, flux_F_Y, dx, dt):\n",
        "    \"\"\"\n",
        "    Apply fluxes to conserved variables\n",
        "    F        is a matrix of the conserved variable field\n",
        "    flux_F_X is a matrix of the x-dir fluxes\n",
        "    flux_F_Y is a matrix of the y-dir fluxes\n",
        "    dx       is the cell size\n",
        "    dt       is the timestep\n",
        "    \"\"\"\n",
        "    # directions for roll()\n",
        "    R = -1   # right\n",
        "    L = 1    # left\n",
        "\n",
        "    # update solution\n",
        "    F += - dt * dx * flux_F_X\n",
        "    F +=   dt * dx * roll(flux_F_X, L, 0)\n",
        "    F += - dt * dx * flux_F_Y\n",
        "    F +=   dt * dx * roll(flux_F_Y, L, 1)\n",
        "\n",
        "    return F\n",
        "\n",
        "\n",
        "def getFlux(rho_L, rho_R, vx_L, vx_R, vy_L, vy_R, P_L, P_R, gamma):\n",
        "    \"\"\"\n",
        "    Calculate fluxed between 2 states with local Lax-Friedrichs/Rusanov rule\n",
        "    rho_L        is a matrix of left-state  density\n",
        "    rho_R        is a matrix of right-state density\n",
        "    vx_L         is a matrix of left-state  x-velocity\n",
        "    vx_R         is a matrix of right-state x-velocity\n",
        "    vy_L         is a matrix of left-state  y-velocity\n",
        "    vy_R         is a matrix of right-state y-velocity\n",
        "    P_L          is a matrix of left-state  pressure\n",
        "    P_R          is a matrix of right-state pressure\n",
        "    gamma        is the ideal gas gamma\n",
        "    flux_Mass    is the matrix of mass fluxes\n",
        "    flux_Momx    is the matrix of x-momentum fluxes\n",
        "    flux_Momy    is the matrix of y-momentum fluxes\n",
        "    flux_Energy  is the matrix of energy fluxes\n",
        "    \"\"\"\n",
        "\n",
        "    # left and right energies\n",
        "    en_L = P_L/(gamma-1)+0.5*rho_L * (vx_L**2+vy_L**2)\n",
        "    en_R = P_R/(gamma-1)+0.5*rho_R * (vx_R**2+vy_R**2)\n",
        "\n",
        "    # compute star (averaged) states\n",
        "    rho_star  = 0.5*(rho_L + rho_R)\n",
        "    momx_star = 0.5*(rho_L * vx_L + rho_R * vx_R)\n",
        "    momy_star = 0.5*(rho_L * vy_L + rho_R * vy_R)\n",
        "    en_star   = 0.5*(en_L + en_R)\n",
        "\n",
        "    P_star = (gamma-1)*(en_star-0.5*(momx_star**2+momy_star**2)/rho_star)\n",
        "\n",
        "    # compute fluxes (local Lax-Friedrichs/Rusanov)\n",
        "    flux_Mass   = momx_star\n",
        "    flux_Momx   = momx_star**2/rho_star + P_star\n",
        "    flux_Momy   = momx_star * momy_star/rho_star\n",
        "    flux_Energy = (en_star+P_star) * momx_star/rho_star\n",
        "\n",
        "    # find wavespeeds\n",
        "    C_L = sqrt(gamma*P_L/rho_L) + abs(vx_L)\n",
        "    C_R = sqrt(gamma*P_R/rho_R) + abs(vx_R)\n",
        "    C = maximum( C_L, C_R )\n",
        "\n",
        "    # add stabilizing diffusive term\n",
        "    flux_Mass   -= C * 0.5 * (rho_L - rho_R)\n",
        "    flux_Momx   -= C * 0.5 * (rho_L * vx_L - rho_R * vx_R)\n",
        "    flux_Momy   -= C * 0.5 * (rho_L * vy_L - rho_R * vy_R)\n",
        "    flux_Energy -= C * 0.5 * ( en_L - en_R )\n",
        "\n",
        "    return flux_Mass, flux_Momx, flux_Momy, flux_Energy\n",
        "\n",
        "\n",
        "def main(N=128, tEnd=2, plotRealTime=False):\n",
        "    \"\"\" Finite Volume simulation \"\"\"\n",
        "\n",
        "    # Simulation parameters\n",
        "    N                      = N # resolution\n",
        "    boxsize                = 1.\n",
        "    gamma                  = 5/3 # ideal gas gamma\n",
        "    courant_fac            = 0.4\n",
        "    t                      = 0\n",
        "    tEnd                   = tEnd\n",
        "    tOut                   = 0.02 # draw frequency\n",
        "    useSlopeLimiting       = False\n",
        "    plotRealTime = plotRealTime # switch on for plotting as the simulation goes along\n",
        "\n",
        "    # Mesh\n",
        "    dx = boxsize / N\n",
        "    vol = dx**2\n",
        "    xlin = linspace(0.5*dx, boxsize-0.5*dx, N)\n",
        "    Y, X = meshgrid( xlin, xlin )\n",
        "    if use_gpu:\n",
        "        # xlin = from_numpy(xlin)\n",
        "        X = from_numpy(X)\n",
        "        Y = from_numpy(Y)\n",
        "\n",
        "    # Generate Initial Conditions - opposite moving streams with perturbation\n",
        "    w0 = 0.1\n",
        "    sigma = 0.05/math.sqrt(2.)\n",
        "    rho = 1. + (abs(Y-0.5) < 0.25)\n",
        "    vx = -0.5 + (abs(Y-0.5)<0.25)\n",
        "    vy = w0*sin(4*pi*X) * ( exp(-(Y-0.25)**2/(2 * sigma**2)) + exp(-(Y-0.75)**2/(2*sigma**2)) )\n",
        "    P = 2.5 * ones(X.shape)\n",
        "\n",
        "    # Get conserved variables\n",
        "    Mass, Momx, Momy, Energy = getConserved( rho, vx, vy, P, gamma, vol )\n",
        "\n",
        "    # prep figure\n",
        "    fig = plt.figure(figsize=(4,4), dpi=80)\n",
        "    outputCount = 1\n",
        "\n",
        "    if use_gpu:\n",
        "        Mass = Mass.cuda()\n",
        "        Momx = Momx.cuda()\n",
        "        Momy = Momy.cuda()\n",
        "        Energy = Energy.cuda()\n",
        "\n",
        "    # Simulation Main Loop\n",
        "    while t < tEnd:\n",
        "\n",
        "        # get Primitive variables\n",
        "        rho, vx, vy, P = getPrimitive( Mass, Momx, Momy, Energy, gamma, vol )\n",
        "\n",
        "        # get time step (CFL) = dx / max signal speed\n",
        "        dt = courant_fac * min( dx / (sqrt( gamma*P/rho ) + sqrt(vx**2+vy**2)) )\n",
        "        plotThisTurn = False\n",
        "\n",
        "        if t + dt > outputCount*tOut and plotRealTime:\n",
        "            dt = outputCount*tOut - t\n",
        "            plotThisTurn = True\n",
        "\n",
        "        # calculate gradients\n",
        "        rho_dx, rho_dy = getGradient(rho, dx)\n",
        "        vx_dx,  vx_dy  = getGradient(vx,  dx)\n",
        "        vy_dx,  vy_dy  = getGradient(vy,  dx)\n",
        "        P_dx,   P_dy   = getGradient(P,   dx)\n",
        "\n",
        "        # slope limit gradients\n",
        "        if useSlopeLimiting:\n",
        "            rho_dx, rho_dy = slopeLimit(rho, dx, rho_dx, rho_dy)\n",
        "            vx_dx,  vx_dy  = slopeLimit(vx , dx, vx_dx,  vx_dy )\n",
        "            vy_dx,  vy_dy  = slopeLimit(vy , dx, vy_dx,  vy_dy )\n",
        "            P_dx,   P_dy   = slopeLimit(P  , dx, P_dx,   P_dy  )\n",
        "\n",
        "        # extrapolate half-step in time\n",
        "        rho_prime = rho - 0.5*dt * ( vx * rho_dx + rho * vx_dx + vy * rho_dy + rho * vy_dy)\n",
        "        vx_prime  = vx  - 0.5*dt * ( vx * vx_dx + vy * vx_dy + (1/rho) * P_dx )\n",
        "        vy_prime  = vy  - 0.5*dt * ( vx * vy_dx + vy * vy_dy + (1/rho) * P_dy )\n",
        "        P_prime   = P   - 0.5*dt * ( gamma*P * (vx_dx + vy_dy)  + vx * P_dx + vy * P_dy )\n",
        "\n",
        "        # extrapolate in space to face centers\n",
        "        rho_XL, rho_XR, rho_YL, rho_YR = extrapolateInSpaceToFace(rho_prime, rho_dx, rho_dy, dx)\n",
        "        vx_XL,  vx_XR,  vx_YL,  vx_YR  = extrapolateInSpaceToFace(vx_prime,  vx_dx,  vx_dy,  dx)\n",
        "        vy_XL,  vy_XR,  vy_YL,  vy_YR  = extrapolateInSpaceToFace(vy_prime,  vy_dx,  vy_dy,  dx)\n",
        "        P_XL,   P_XR,   P_YL,   P_YR   = extrapolateInSpaceToFace(P_prime,   P_dx,   P_dy,   dx)\n",
        "\n",
        "        # compute fluxes (local Lax-Friedrichs/Rusanov)\n",
        "        flux_Mass_X, flux_Momx_X, flux_Momy_X, flux_Energy_X = getFlux(rho_XL, rho_XR, vx_XL, vx_XR, vy_XL, vy_XR, P_XL, P_XR, gamma)\n",
        "        flux_Mass_Y, flux_Momy_Y, flux_Momx_Y, flux_Energy_Y = getFlux(rho_YL, rho_YR, vy_YL, vy_YR, vx_YL, vx_YR, P_YL, P_YR, gamma)\n",
        "\n",
        "        # update solution\n",
        "        Mass   = applyFluxes(Mass, flux_Mass_X, flux_Mass_Y, dx, dt)\n",
        "        Momx   = applyFluxes(Momx, flux_Momx_X, flux_Momx_Y, dx, dt)\n",
        "        Momy   = applyFluxes(Momy, flux_Momy_X, flux_Momy_Y, dx, dt)\n",
        "        Energy = applyFluxes(Energy, flux_Energy_X, flux_Energy_Y, dx, dt)\n",
        "\n",
        "        # update time\n",
        "        t += dt\n",
        "\n",
        "        # plot in real time\n",
        "        if ((plotRealTime and plotThisTurn) or (t >= tEnd)) and False:\n",
        "            rho, _, _, _ = getPrimitive( Mass, Momx, Momy, Energy, gamma, vol)\n",
        "            if use_gpu:\n",
        "                rho = rho.cpu()\n",
        "\n",
        "            plt.cla()\n",
        "            plt.imshow(rho.T)\n",
        "            plt.clim(0.8, 2.2)\n",
        "            ax = plt.gca()\n",
        "            ax.invert_yaxis()\n",
        "            ax.get_xaxis().set_visible(False)\n",
        "            ax.get_yaxis().set_visible(False)\n",
        "            ax.set_aspect('equal')\n",
        "            plt.pause(0.001)\n",
        "            outputCount += 1\n",
        "\n",
        "\n",
        "    # Save figure\n",
        "    plt.savefig('finitevolume.png',dpi=240)\n",
        "    plt.show()\n",
        "\n",
        "    return 0\n",
        "\n",
        "\n",
        "\n",
        "def timed(f, *args, **kwargs):\n",
        "    t0 = timer()\n",
        "    f(*args, **kwargs)\n",
        "    t1 = timer()\n",
        "    return t1 - t0\n",
        "\n",
        "\n",
        "def run_function_as_experiment(f, lbound, ubound, num_runs, tEnd):\n",
        "    grid_sizes = [2 ** i for i in range(lbound, ubound)]\n",
        "    wtimes = zeros(len(grid_sizes))\n",
        "    for i, grid_size in enumerate(grid_sizes):\n",
        "        for _ in range(num_runs):\n",
        "            wtimes[i] += timed(f, N=grid_size, tEnd=tEnd)\n",
        "        wtimes /= num_runs\n",
        "\n",
        "    print(f\"ran {f.__name__}\")\n",
        "    print(f\"each grid size ran {num_runs} runs, each run simulated {tEnd} seconds.\")\n",
        "    for i, j in zip(grid_sizes, wtimes):\n",
        "        print(f\"Grid: ({i}, {i})\\n\\tavg runtime: {j}s\")\n",
        "    print(wtimes)\n",
        "    # plt.plot(grid_sizes, wtimes, label=f\"{f.__name__} (m1 (16') macbook pro, 2021)\", marker='o')\n",
        "    plt.plot(grid_sizes, wtimes, label=f\"Google Colab, GPU: {use_gpu}\", marker='o')\n",
        "\n",
        "    for i,j in zip(grid_sizes, wtimes):\n",
        "        plt.annotate(\"%.3f s\" % j, xy=(i,j), xytext=(5,-10), textcoords=\"offset points\")\n",
        "\n",
        "\n",
        "if __name__== \"__main__\":\n",
        "    run_function_as_experiment(main, 4, 10+1, 3, 0.1)\n",
        "\n",
        "    plt.xscale(\"log\", base=2)\n",
        "    plt.xlabel(\"N (gridsize: 2**N x 2**N)\")\n",
        "\n",
        "    plt.yscale(\"log\", base=10)\n",
        "    plt.ylabel(\"wtime (in s)\")\n",
        "    plt.legend()\n",
        "\n",
        "    plt.show()\n",
        "\n"
      ]
    }
  ]
}