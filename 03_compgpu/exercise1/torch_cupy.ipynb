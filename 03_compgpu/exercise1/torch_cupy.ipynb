{
  "cells": [
    {
      "cell_type": "code",
      "execution_count": 143,
      "metadata": {
        "id": "-6vlth3Krbvt"
      },
      "outputs": [],
      "source": [
        "import torch\n",
        "import cupy\n",
        "from timeit import default_timer as timer\n",
        "import numpy as np\n",
        "import matplotlib.pyplot as plt\n",
        "import pytest\n",
        "import h5py"
      ]
    },
    {
      "cell_type": "markdown",
      "metadata": {},
      "source": [
        "# Torch Implementation\n",
        "This is the PyTorch implementation of the Gauss-Seidel solver. We use roll operations instead of relying on nested loops, as desired"
      ]
    },
    {
      "cell_type": "code",
      "execution_count": 108,
      "metadata": {
        "id": "QYayjfIlqbp7"
      },
      "outputs": [],
      "source": [
        "def gauss_seidel_torch(f):\n",
        "    newf = torch.zeros_like(f).cuda()\n",
        "\n",
        "    newf += torch.roll(f, (0, 1), (0, 1))\n",
        "    newf += torch.roll(f, (0, -1), (0, 1))\n",
        "    newf += torch.roll(f, (1, 0), (0, 1))\n",
        "    newf += torch.roll(f, (-1, 0), (0, 1))\n",
        "\n",
        "    # Ensure that the edges remain 0\n",
        "    newf[0,:] = 0\n",
        "    newf[:,0] = 0\n",
        "    newf[-1,:] = 0\n",
        "    newf[:,-1] = 0\n",
        "    return 0.25*newf"
      ]
    },
    {
      "cell_type": "markdown",
      "metadata": {},
      "source": [
        "# CuPy Implementation\n",
        "This is the cupy implementation (very similar to the PyTorch implementation above)"
      ]
    },
    {
      "cell_type": "code",
      "execution_count": 122,
      "metadata": {
        "id": "un6Da2LItHdj"
      },
      "outputs": [],
      "source": [
        "def gauss_seidel_cupy(f):\n",
        "    newf = cupy.zeros_like(f)\n",
        "\n",
        "    newf += cupy.roll(f, (0, 1), (0, 1))\n",
        "    newf += cupy.roll(f, (0, -1), (0, 1))\n",
        "    newf += cupy.roll(f, (1, 0), (0, 1))\n",
        "    newf += cupy.roll(f, (-1, 0), (0, 1))\n",
        "\n",
        "    newf[0,:] = 0\n",
        "    newf[:,0] = 0\n",
        "    newf[-1,:] = 0\n",
        "    newf[:,-1] = 0\n",
        "\n",
        "    return 0.25 * newf"
      ]
    },
    {
      "cell_type": "markdown",
      "metadata": {},
      "source": [
        "# Default Implementation\n",
        "This is a _slightly_ modified version of the default for-loop implementation of the solver provided to us in the assignment handout. \n",
        "Notice that here, in the nested loops, instead of using `newf` to determine the value of `newf[i, j]`, we are using `f` (the original array)\n",
        "instead. This helps us parallelize the operation using vectorization (which is visible above), and is the implementation of the **Jacobi numerical scheme**"
      ]
    },
    {
      "cell_type": "code",
      "execution_count": 101,
      "metadata": {
        "id": "wEQS2N0p3LgK"
      },
      "outputs": [],
      "source": [
        "def gauss_seidel_default(f):\n",
        "    newf = f.copy()\n",
        "\n",
        "    for i in range(1,newf.shape[0]-1):\n",
        "        for j in range(1,newf.shape[1]-1):\n",
        "            newf[i,j] = (f[i,j+1] + f[i,j-1] +\n",
        "                                f[i+1,j] + f[i-1,j])\n",
        "\n",
        "    return newf * 0.25"
      ]
    },
    {
      "cell_type": "markdown",
      "metadata": {},
      "source": [
        "# Utilities\n",
        "These are the different utility functions we use to verify correctness of our implementation and for generating plots. "
      ]
    },
    {
      "cell_type": "code",
      "execution_count": 126,
      "metadata": {
        "id": "sg2gzEKIrLD0"
      },
      "outputs": [],
      "source": [
        "def run_gauss_seidel_torch(func, N, num_iterations):\n",
        "    # We first generate our starting arrays in numpy and then port them over to a pytorch tensor (in this function) \n",
        "    # or a cupy array (in the next function)\n",
        "    # This helps us ensure reproducability of the tests (because of the same seed being and the same generation method).\n",
        "    np.random.seed(42)\n",
        "    grid = np.zeros((N, N))\n",
        "    grid[1:-1, 1:-1] = np.random.rand(N-2, N-2)\n",
        "\n",
        "    # Port to pytorch tensor before continuing\n",
        "    grid = torch.tensor(grid).cuda()\n",
        "\n",
        "    for _ in range(num_iterations):\n",
        "        grid = func(grid)\n",
        "    return grid\n",
        "\n",
        "def run_gauss_seidel_cupy(func, N, num_iterations):\n",
        "    np.random.seed(42)\n",
        "    grid = np.zeros((N, N))\n",
        "    grid[1:-1, 1:-1] = np.random.rand(N-2, N-2)\n",
        "\n",
        "    # Port to cupy array before continuing\n",
        "    grid = cupy.asarray(grid)\n",
        "\n",
        "    for _ in range(num_iterations):\n",
        "        grid = func(grid)\n",
        "    \n",
        "    # We synchronize to ensure that our code finishes executing on the GPU before going to the next line.\n",
        "    cupy.cuda.Stream.null.synchronize()\n",
        "    return grid\n",
        "\n",
        "def run_gauss_seidel_default(func, N, num_iterations):\n",
        "    np.random.seed(42)\n",
        "    grid = np.zeros((N, N))\n",
        "    grid[1:-1, 1:-1] = np.random.rand(N-2, N-2)\n",
        "\n",
        "    for _ in range(num_iterations):\n",
        "        grid = func(grid)\n",
        "    return grid\n",
        "\n",
        "def timed(f, *args, **kwargs):\n",
        "    t0 = timer()\n",
        "    f(*args, **kwargs)\n",
        "    t1 = timer()\n",
        "    return t1 - t0\n",
        "\n",
        "def run_function_as_experiment(f, func, num_iterations = 100):\n",
        "    grid_sizes = [2**i for i in range(6, 11)]\n",
        "    num_runs = 5\n",
        "    wtimes = np.zeros(len(grid_sizes))\n",
        "\n",
        "    for _ in range(num_runs):\n",
        "        wtimes += [timed(f, func, curr_size, num_iterations) for curr_size in grid_sizes]\n",
        "    wtimes /= num_runs\n",
        "\n",
        "    print(f\"ran {f.__name__}\")\n",
        "    print(f\"each grid ran {num_iterations} iterations. ({num_runs} runs)\")\n",
        "    for i, j in zip(grid_sizes, wtimes):\n",
        "        print(f\"Grid: ({i}, {i})\\n\\truntime: {j}s\")\n",
        "    plt.plot(grid_sizes, wtimes, label=f\"{f.__name__}\", marker='o')"
      ]
    },
    {
      "cell_type": "markdown",
      "metadata": {},
      "source": [
        "# Test Verification\n",
        "This ensures that the optimizations we have made for the PyTorch and Cupy version of the code return similar results when compared to the Jacobi implementation of the default Gauss-Seidel solver provided to us. Note that we are using `np.allclose` in our comparisons instead of a literal/strictest comparison. This is because we observed that for higher number of iterations or for bigger grid sizes, there seem to be some minor differences in the decimal places. \n",
        "\n",
        "We believe this is because of the different levels of precision in the FLOPS present in Numpy vs Pytorch vs CuPy. Thus, comarpring the **closeness** of the of the PyTorch and CuPy implementations to the one returned by the \"default\" implementation instead of absolute equality seems like a reasonable approach to us."
      ]
    },
    {
      "cell_type": "code",
      "execution_count": 141,
      "metadata": {
        "colab": {
          "base_uri": "https://localhost:8080/"
        },
        "id": "-Ww1CsgS0cLw",
        "outputId": "a20b1bc0-1258-4b73-b5cd-056151a972aa"
      },
      "outputs": [
        {
          "name": "stdout",
          "output_type": "stream",
          "text": [
            "True True\n",
            "[[0.         0.         0.         ... 0.         0.         0.        ]\n",
            " [0.         0.05352285 0.10728289 ... 0.1107893  0.05163255 0.        ]\n",
            " [0.         0.1096818  0.18255292 ... 0.17551618 0.11163804 0.        ]\n",
            " ...\n",
            " [0.         0.10129232 0.18911223 ... 0.13820673 0.10227112 0.        ]\n",
            " [0.         0.05664545 0.09995143 ... 0.10637615 0.03926967 0.        ]\n",
            " [0.         0.         0.         ... 0.         0.         0.        ]]\n",
            "[[0.         0.         0.         ... 0.         0.         0.        ]\n",
            " [0.         0.05352285 0.10728289 ... 0.1107893  0.05163255 0.        ]\n",
            " [0.         0.1096818  0.18255292 ... 0.17551618 0.11163804 0.        ]\n",
            " ...\n",
            " [0.         0.10129232 0.18911223 ... 0.13820673 0.10227112 0.        ]\n",
            " [0.         0.05664545 0.09995143 ... 0.10637615 0.03926967 0.        ]\n",
            " [0.         0.         0.         ... 0.         0.         0.        ]]\n",
            "Equality for 64 grid? True\n",
            "True True\n",
            "[[0.         0.         0.         ... 0.         0.         0.        ]\n",
            " [0.         0.06551343 0.09467338 ... 0.11084788 0.04864429 0.        ]\n",
            " [0.         0.09520049 0.22312519 ... 0.1718723  0.10906584 0.        ]\n",
            " ...\n",
            " [0.         0.11518301 0.20059777 ... 0.18908996 0.08940885 0.        ]\n",
            " [0.         0.05940318 0.12033622 ... 0.09292697 0.05612493 0.        ]\n",
            " [0.         0.         0.         ... 0.         0.         0.        ]]\n",
            "[[0.         0.         0.         ... 0.         0.         0.        ]\n",
            " [0.         0.06551343 0.09467338 ... 0.11084788 0.04864429 0.        ]\n",
            " [0.         0.09520049 0.22312519 ... 0.1718723  0.10906584 0.        ]\n",
            " ...\n",
            " [0.         0.11518301 0.20059777 ... 0.18908996 0.08940885 0.        ]\n",
            " [0.         0.05940318 0.12033622 ... 0.09292697 0.05612493 0.        ]\n",
            " [0.         0.         0.         ... 0.         0.         0.        ]]\n",
            "Equality for 128 grid? True\n",
            "True True\n",
            "[[0.         0.         0.         ... 0.         0.         0.        ]\n",
            " [0.         0.0696001  0.10922431 ... 0.10939789 0.06624188 0.        ]\n",
            " [0.         0.10637481 0.2329375  ... 0.21731851 0.10801375 0.        ]\n",
            " ...\n",
            " [0.         0.10605313 0.15666606 ... 0.18273877 0.09705    0.        ]\n",
            " [0.         0.04583    0.10609807 ... 0.09726991 0.0540392  0.        ]\n",
            " [0.         0.         0.         ... 0.         0.         0.        ]]\n",
            "[[0.         0.         0.         ... 0.         0.         0.        ]\n",
            " [0.         0.0696001  0.10922431 ... 0.10939789 0.06624188 0.        ]\n",
            " [0.         0.10637481 0.2329375  ... 0.21731851 0.10801375 0.        ]\n",
            " ...\n",
            " [0.         0.10605313 0.15666606 ... 0.18273877 0.09705    0.        ]\n",
            " [0.         0.04583    0.10609807 ... 0.09726991 0.0540392  0.        ]\n",
            " [0.         0.         0.         ... 0.         0.         0.        ]]\n",
            "Equality for 256 grid? True\n"
          ]
        }
      ],
      "source": [
        "def test_grid_diff_sizes(grid_size):\n",
        "\n",
        "    tf_grid = run_gauss_seidel_torch(gauss_seidel_torch, grid_size,num_iterations=10)\n",
        "    cupy_grid = run_gauss_seidel_cupy(gauss_seidel_cupy, grid_size, num_iterations=10)\n",
        "    default_grid = run_gauss_seidel_default(gauss_seidel_default, grid_size, num_iterations=10)\n",
        "    tf_default_comp = np.allclose(tf_grid.cpu().detach().numpy(), default_grid)\n",
        "    cupy_default_comp = np.allclose(cupy.asnumpy(cupy_grid), default_grid)\n",
        "    print(f\"Equality for {grid_size} grid? {tf_default_comp and cupy_default_comp}\")\n",
        "\n",
        "grid_sizes = [64, 128, 256]\n",
        "\n",
        "for curr_size in grid_sizes:\n",
        "    test_grid_diff_sizes(curr_size)"
      ]
    },
    {
      "cell_type": "code",
      "execution_count": 128,
      "metadata": {
        "colab": {
          "base_uri": "https://localhost:8080/",
          "height": 940
        },
        "id": "HSe59RAWrEVN",
        "outputId": "1098db96-d66f-46f3-a952-00d2493bd6f9"
      },
      "outputs": [
        {
          "name": "stdout",
          "output_type": "stream",
          "text": [
            "ran run_gauss_seidel_torch\n",
            "each grid ran 1000 iterations.\n",
            "Grid: (64, 64)\n",
            "\truntime: 0.18656589400052326s\n",
            "Grid: (128, 128)\n",
            "\truntime: 0.1720671749999383s\n",
            "Grid: (256, 256)\n",
            "\truntime: 0.18370098099967436s\n",
            "Grid: (512, 512)\n",
            "\truntime: 0.22100001399940084s\n",
            "Grid: (1024, 1024)\n",
            "\truntime: 1.1190267029996903s\n",
            "Grid: (2048, 2048)\n",
            "\truntime: 4.405640500999652s\n",
            "ran run_gauss_seidel_cupy\n",
            "each grid ran 1000 iterations.\n",
            "Grid: (64, 64)\n",
            "\truntime: 0.6877405870000075s\n",
            "Grid: (128, 128)\n",
            "\truntime: 0.44109389499953977s\n",
            "Grid: (256, 256)\n",
            "\truntime: 0.44121425800040015s\n",
            "Grid: (512, 512)\n",
            "\truntime: 0.44820892799998546s\n",
            "Grid: (1024, 1024)\n",
            "\truntime: 0.8302153509994241s\n",
            "Grid: (2048, 2048)\n",
            "\truntime: 3.204122299000119s\n"
          ]
        },
        {
          "data": {
            "image/png": "[encoded data removed]",
            "text/plain": [
              "<Figure size 640x480 with 1 Axes>"
            ]
          },
          "metadata": {},
          "output_type": "display_data"
        }
      ],
      "source": [
        "if __name__ == '__main__':\n",
        "    run_function_as_experiment(run_gauss_seidel_torch,func=gauss_seidel_torch)\n",
        "    run_function_as_experiment(run_gauss_seidel_cupy,func=gauss_seidel_cupy)\n",
        "\n",
        "    plt.yscale(\"log\")\n",
        "    plt.xscale(\"log\")\n",
        "    plt.xlabel(\"N\")\n",
        "    plt.ylabel(\"wtime\")\n",
        "    plt.legend()\n",
        "\n",
        "    plt.show()"
      ]
    },
    {
      "cell_type": "markdown",
      "metadata": {},
      "source": [
        "# Porting Results to HDF5 File\n",
        "Here, we ported the results obtained by running the PyTorch and the CuPy versions of the algorithm on a 1024 x 1024 grid for 50 iterations to an HDF5 file. This file has been uploaded in the repository by the same name."
      ]
    },
    {
      "cell_type": "code",
      "execution_count": 156,
      "metadata": {
        "id": "2lIN9V0GNKaz"
      },
      "outputs": [],
      "source": [
        "f = h5py.File(\"matrix_gpu.hdf5\", \"w\")\n",
        "torch_1024 = run_gauss_seidel_torch(gauss_seidel_torch, 1024, 50)\n",
        "cupy_1024 = run_gauss_seidel_cupy(gauss_seidel_cupy, 1024, 50)\n",
        "f[\"/1024/cupy\"] = cupy.asnumpy(cupy_1024)\n",
        "f[\"/1024/torch\"] = torch_1024.cpu().detach().numpy()\n",
        "f.close()"
      ]
    }
  ],
  "metadata": {
    "accelerator": "GPU",
    "colab": {
      "gpuType": "T4",
      "provenance": []
    },
    "kernelspec": {
      "display_name": "Python 3",
      "name": "python3"
    },
    "language_info": {
      "name": "python"
    }
  },
  "nbformat": 4,
  "nbformat_minor": 0
}
